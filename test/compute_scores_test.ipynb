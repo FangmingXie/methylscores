{
 "cells": [
  {
   "cell_type": "code",
   "execution_count": 5,
   "metadata": {},
   "outputs": [],
   "source": [
    "#!/usr/bin/env python3\n",
    "\"\"\"\n",
    "Scores include:\n",
    "mCH CH mCH_rate mCH_fmr mCH_fumr mCH_mhl mCH_umhl \n",
    "mCG CG mCG_rate mCG_fmr mCG_fumr mCG_mhl mCG_umhl\n",
    "\n",
    "fmr: fully methylated rate (read level)\n",
    "fumr: fully unmethylated rate (read level)\n",
    "mhl: methylation haplotype load (Gou et al 2017)\n",
    "umhl: unmethylation haplotype load (symmetric to mhl)\n",
    "\n",
    "mcconc: fraction of unmethylated sites present in partially methylated reads\n",
    "\"\"\"\n",
    "\n",
    "import numpy as np\n",
    "from scipy import linalg\n",
    "import pandas as pd\n",
    "import argparse\n",
    "import re\n",
    "\n",
    "# input_mcinfo = '/cndd2/fangming/projects/cfdna/all_data/bam/test_guo2017_mhb.mc_info.txt'\n",
    "# output_mcscores = '/cndd2/fangming/projects/cfdna/all_data/bam/test_guo2017_mhb.mc_scores.txt'\n",
    "# df = pd.read_csv(input_mcinfo, sep='\\t', header=None, nrows=1000,\n",
    "#                  names=['chr', 'start', 'end', 'seq'], \n",
    "#                 )\n",
    "# df = df[~df['seq'].isnull()]\n",
    "# print(df.shape)\n",
    "# df.head()"
   ]
  },
  {
   "cell_type": "code",
   "execution_count": 13,
   "metadata": {},
   "outputs": [],
   "source": [
    "def process_strings(strings):\n",
    "    \"\"\"Process strings\n",
    "    split mCH and mCG\n",
    "    z Z - mCG\n",
    "    x X - mCHG, h H - mCHH\n",
    "    u U - mCN\n",
    "    . not C\n",
    "    , read deliminator\n",
    "    \n",
    "    return: hH list/zZ list\n",
    "    \"\"\"\n",
    "    strings = (strings.replace('.', '')\n",
    "                      .replace('u', '')\n",
    "                      .replace('x', 'h')\n",
    "                      .replace('X', 'H')\n",
    "               )\n",
    "    # z Z h H\n",
    "    string_list_mch = (strings.replace('z', '')\n",
    "                             .replace('Z', '')\n",
    "                             .split(',')\n",
    "                      )\n",
    "    string_list_mcg = (strings.replace('h', '')\n",
    "                             .replace('H', '')\n",
    "                             .split(',')\n",
    "                      )\n",
    "    \n",
    "    # remove empty entries\n",
    "    string_list_mch = [string for string in string_list_mch if string]\n",
    "    string_list_mcg = [string for string in string_list_mcg if string]\n",
    "    return string_list_mch, string_list_mcg\n",
    "\n",
    "def calc_mc(string_list, letter):\n",
    "    \"\"\"\n",
    "    \"\"\"\n",
    "    letter = letter.upper()\n",
    "    string = ''.join(string_list)\n",
    "    mc = string.count(letter)\n",
    "    c = len(string)\n",
    "    return mc, c\n",
    "\n",
    "def calc_fmr(string_list, letter):\n",
    "    \"\"\"\n",
    "    \"\"\"\n",
    "    letter_upper = letter.upper()\n",
    "    letter_lower = letter.lower()\n",
    "    string_sets = np.array([set(string) for string in string_list])\n",
    "    num_fm = (string_sets == {letter_upper}).sum()\n",
    "    num_fum = (string_sets == {letter_lower}).sum()\n",
    "    num = len(string_sets)\n",
    "    \n",
    "    return num_fm, num_fum, num \n",
    "\n",
    "def calc_mhl(strings, letter):\n",
    "    \"\"\"MHL and uMHL\n",
    "    \"\"\"\n",
    "    letter_lower = letter.lower()\n",
    "    letter_upper = letter.upper()\n",
    "\n",
    "    length_counts = np.bincount([len(string) for string in strings])\n",
    "    length_counts_meth = np.zeros_like(length_counts)\n",
    "    length_counts_unmeth = np.zeros_like(length_counts)\n",
    "\n",
    "    for string in strings:\n",
    "        # methylated\n",
    "        a = re.split(r'{}+'.format(letter_lower), string.strip(letter_lower)) # get all substring including empty ones\n",
    "        a = np.bincount([len(_a) for _a in a])\n",
    "        length_counts_meth[:len(a)] += a\n",
    "\n",
    "        # unmethylated\n",
    "        a = re.split(r'{}+'.format(letter_upper), string.strip(letter_upper)) # get all substring including empty ones\n",
    "        a = np.bincount([len(_a) for _a in a])\n",
    "        length_counts_unmeth[:len(a)] += a\n",
    "\n",
    "    length_counts_all = np.vstack([\n",
    "        length_counts, \n",
    "        length_counts_meth, \n",
    "        length_counts_unmeth, \n",
    "        ])[:, 1:]\n",
    "\n",
    "    dim = length_counts_all.shape[1]\n",
    "    trans_mat = np.flip(linalg.hankel((np.arange(dim)+1)[::-1]), axis=0) # lower triangular matrix\n",
    "    length_counts_all = np.dot(length_counts_all,trans_mat)\n",
    "\n",
    "    fracs = length_counts_all[1:]/length_counts_all[0]\n",
    "    weights = (np.arange(dim)+1)/(dim*(dim+1)/2)\n",
    "    mhls = np.dot(fracs, weights)\n",
    "\n",
    "    return mhls\n",
    "\n",
    "def calc_mcconc(strings, letter):\n",
    "    \"\"\"Shi et al. 2021\n",
    "    mcconc: fraction of unmethylated sites present in partially methylated reads\n",
    "    \"\"\"\n",
    "    letter_lower = letter.lower()\n",
    "    letter_upper = letter.upper()\n",
    "    \n",
    "    total_sites = 0\n",
    "    conc_sites = 0\n",
    "    for string in strings:\n",
    "        total_sites += len(string)\n",
    "        if letter_upper in string: # partially methylated\n",
    "            conc_sites += string.count(letter_lower)\n",
    "            \n",
    "    return conc_sites/total_sites"
   ]
  },
  {
   "cell_type": "code",
   "execution_count": 7,
   "metadata": {},
   "outputs": [
    {
     "ename": "NameError",
     "evalue": "name 'df' is not defined",
     "output_type": "error",
     "traceback": [
      "\u001b[0;31m---------------------------------------------------------------------------\u001b[0m",
      "\u001b[0;31mNameError\u001b[0m                                 Traceback (most recent call last)",
      "\u001b[0;32m<ipython-input-7-d8cf440aa438>\u001b[0m in \u001b[0;36m<module>\u001b[0;34m\u001b[0m\n\u001b[0;32m----> 1\u001b[0;31m df_proc = pd.DataFrame(df[~df['seq'].isnull()]['seq'].apply(process_strings).tolist(), \n\u001b[0m\u001b[1;32m      2\u001b[0m                        \u001b[0mindex\u001b[0m\u001b[0;34m=\u001b[0m\u001b[0mdf\u001b[0m\u001b[0;34m[\u001b[0m\u001b[0;34m'seq'\u001b[0m\u001b[0;34m]\u001b[0m\u001b[0;34m.\u001b[0m\u001b[0mindex\u001b[0m\u001b[0;34m,\u001b[0m\u001b[0;34m\u001b[0m\u001b[0;34m\u001b[0m\u001b[0m\n\u001b[1;32m      3\u001b[0m                        columns=['mch_string', 'mcg_string'])\n\u001b[1;32m      4\u001b[0m \u001b[0;34m\u001b[0m\u001b[0m\n\u001b[1;32m      5\u001b[0m df_mch = pd.DataFrame(df_proc['mch_string'].apply(lambda x: calc_mc(x, 'h')).tolist(),\n",
      "\u001b[0;31mNameError\u001b[0m: name 'df' is not defined"
     ]
    }
   ],
   "source": [
    "df_proc = pd.DataFrame(df[~df['seq'].isnull()]['seq'].apply(process_strings).tolist(), \n",
    "                       index=df['seq'].index,\n",
    "                       columns=['mch_string', 'mcg_string'])\n",
    "\n",
    "df_mch = pd.DataFrame(df_proc['mch_string'].apply(lambda x: calc_mc(x, 'h')).tolist(),\n",
    "                     index=df_proc['mch_string'].index,\n",
    "                     columns=['ch_mc', 'ch_c'],\n",
    "                     )\n",
    "df_mcg = pd.DataFrame(df_proc['mcg_string'].apply(lambda x: calc_mc(x, 'z')).tolist(),\n",
    "                     index=df_proc['mcg_string'].index,\n",
    "                     columns=['cg_mc', 'cg_c'],\n",
    "                     )\n",
    "\n",
    "df_mch_fmr = pd.DataFrame(df_proc['mch_string'].apply(lambda x: calc_fmr(x, 'h')).tolist(),\n",
    "                     index=df_proc['mch_string'].index,\n",
    "                     columns=['ch_fully_meth_reads', 'ch_fully_unmeth_reads', 'ch_total_reads'],\n",
    "                    )\n",
    "\n",
    "df_mcg_fmr = pd.DataFrame(df_proc['mcg_string'].apply(lambda x: calc_fmr(x, 'z')).tolist(),\n",
    "                     index=df_proc['mcg_string'].index,\n",
    "                     columns=['cg_fully_meth_reads', 'cg_fully_unmeth_reads', 'cg_total_reads'],\n",
    "                    )\n",
    "\n",
    "df_mch_mhl = pd.DataFrame(df_proc['mch_string'].apply(lambda x: calc_mhl(x, 'h')).tolist(),\n",
    "                     index=df_proc['mch_string'].index,\n",
    "                     columns=['ch_mhl', 'ch_umhl'],\n",
    "                    )\n",
    "df_mcg_mhl = pd.DataFrame(df_proc['mcg_string'].apply(lambda x: calc_mhl(x, 'z')).tolist(),\n",
    "                     index=df_proc['mcg_string'].index,\n",
    "                     columns=['cg_mhl', 'cg_umhl'],\n",
    "                    )\n",
    "\n",
    "df_res = pd.concat([ \n",
    "                   df.drop('seq', axis=1),\n",
    "                   df_mch, df_mcg, \n",
    "                   df_mch_fmr, df_mcg_fmr, \n",
    "                   df_mch_mhl, df_mcg_mhl,\n",
    "#                    df_proc,\n",
    "                  ], axis=1)\n",
    "print(df_res.shape)\n",
    "df_res.head()"
   ]
  },
  {
   "cell_type": "code",
   "execution_count": 8,
   "metadata": {},
   "outputs": [
    {
     "ename": "NameError",
     "evalue": "name 'df_res' is not defined",
     "output_type": "error",
     "traceback": [
      "\u001b[0;31m---------------------------------------------------------------------------\u001b[0m",
      "\u001b[0;31mNameError\u001b[0m                                 Traceback (most recent call last)",
      "\u001b[0;32m<ipython-input-8-6c859cfd4303>\u001b[0m in \u001b[0;36m<module>\u001b[0;34m\u001b[0m\n\u001b[0;32m----> 1\u001b[0;31m \u001b[0mdf_res\u001b[0m\u001b[0;34m.\u001b[0m\u001b[0mto_csv\u001b[0m\u001b[0;34m(\u001b[0m\u001b[0moutput_mcscores\u001b[0m\u001b[0;34m,\u001b[0m \u001b[0msep\u001b[0m\u001b[0;34m=\u001b[0m\u001b[0;34m'\\t'\u001b[0m\u001b[0;34m,\u001b[0m \u001b[0mheader\u001b[0m\u001b[0;34m=\u001b[0m\u001b[0;32mTrue\u001b[0m\u001b[0;34m,\u001b[0m \u001b[0mindex\u001b[0m\u001b[0;34m=\u001b[0m\u001b[0;32mTrue\u001b[0m\u001b[0;34m,\u001b[0m \u001b[0mna_rep\u001b[0m\u001b[0;34m=\u001b[0m\u001b[0;34m'NA'\u001b[0m\u001b[0;34m)\u001b[0m\u001b[0;34m\u001b[0m\u001b[0;34m\u001b[0m\u001b[0m\n\u001b[0m",
      "\u001b[0;31mNameError\u001b[0m: name 'df_res' is not defined"
     ]
    }
   ],
   "source": [
    "df_res.to_csv(output_mcscores, sep='\\t', header=True, index=True, na_rep='NA')"
   ]
  },
  {
   "cell_type": "markdown",
   "metadata": {},
   "source": [
    "## test section"
   ]
  },
  {
   "cell_type": "code",
   "execution_count": 9,
   "metadata": {},
   "outputs": [
    {
     "name": "stdout",
     "output_type": "stream",
     "text": [
      "['hHHHhhH', 'hHH', 'H', 'hHhh']\n",
      "['zZ', 'Z', 'ZZ']\n"
     ]
    }
   ],
   "source": [
    "a = 'hHHHhhzZH,,ZxHH,ZHZ,hHhx,,,'\n",
    "string_mch, string_mcg = process_strings(a)\n",
    "\n",
    "print(string_mch)\n",
    "print(string_mcg)"
   ]
  },
  {
   "cell_type": "code",
   "execution_count": 19,
   "metadata": {},
   "outputs": [],
   "source": [
    "strings = ['zzz', 'zZ']"
   ]
  },
  {
   "cell_type": "code",
   "execution_count": 10,
   "metadata": {},
   "outputs": [
    {
     "data": {
      "text/plain": [
       "(0.05192099567099566, 0.029653679653679654)"
      ]
     },
     "execution_count": 10,
     "metadata": {},
     "output_type": "execute_result"
    }
   ],
   "source": [
    "mhl, umhl = calc_mhl(string_mch, 'h')\n",
    "mhl, umhl"
   ]
  },
  {
   "cell_type": "code",
   "execution_count": 20,
   "metadata": {},
   "outputs": [
    {
     "data": {
      "text/plain": [
       "(0.2, 0.8)"
      ]
     },
     "execution_count": 20,
     "metadata": {},
     "output_type": "execute_result"
    }
   ],
   "source": [
    "calc_mcconc(string_mch, 'h'), 1-calc_mc(string_mch, 'h')[0]/calc_mc(string_mch, 'h')[1]\n",
    "\n",
    "calc_mcconc(string_mcg, 'z'), 1-calc_mc(string_mcg, 'z')[0]/calc_mc(string_mcg, 'z')[1]\n",
    "\n",
    "calc_mcconc(strings, 'z'), 1-calc_mc(strings, 'z')[0]/calc_mc(strings, 'z')[1]"
   ]
  },
  {
   "cell_type": "code",
   "execution_count": 27,
   "metadata": {},
   "outputs": [],
   "source": [
    "def calc_mhl(strings, letter):\n",
    "    \"\"\"MHL and uMHL\n",
    "    \"\"\"\n",
    "    letter_lower = letter.lower()\n",
    "    letter_upper = letter.upper()\n",
    "\n",
    "    length_counts = np.bincount([len(string) for string in strings])\n",
    "    length_counts_meth = np.zeros_like(length_counts)\n",
    "    length_counts_unmeth = np.zeros_like(length_counts)\n",
    "\n",
    "    for string in strings:\n",
    "        # methylated\n",
    "        a = re.split(r'{}+'.format(letter_lower), string.strip(letter_lower)) # get all substring including empty ones\n",
    "        a = np.bincount([len(_a) for _a in a])\n",
    "        length_counts_meth[:len(a)] += a\n",
    "\n",
    "        # unmethylated\n",
    "        a = re.split(r'{}+'.format(letter_upper), string.strip(letter_upper)) # get all substring including empty ones\n",
    "        a = np.bincount([len(_a) for _a in a])\n",
    "        length_counts_unmeth[:len(a)] += a\n",
    "\n",
    "    length_counts_all = np.vstack([\n",
    "        length_counts, \n",
    "        length_counts_meth, \n",
    "        length_counts_unmeth, \n",
    "        ])[:, 1:]\n",
    "    print(length_counts_all)\n",
    "\n",
    "    dim = length_counts_all.shape[1]\n",
    "    trans_mat = np.flip(linalg.hankel((np.arange(dim)+1)[::-1]), axis=0) # lower triangular matrix\n",
    "    length_counts_all = np.dot(length_counts_all,trans_mat)\n",
    "    print(dim, trans_mat)\n",
    "    print(length_counts_all)\n",
    "\n",
    "    fracs = length_counts_all[1:]/length_counts_all[0]\n",
    "    weights = (np.arange(dim)+1)/(dim*(dim+1)/2)\n",
    "    mhls = np.dot(fracs, weights)\n",
    "    print(fracs, weights, mhls)\n",
    "\n",
    "    return mhls"
   ]
  },
  {
   "cell_type": "code",
   "execution_count": 30,
   "metadata": {},
   "outputs": [
    {
     "name": "stdout",
     "output_type": "stream",
     "text": [
      "[[0 0 0 2]\n",
      " [0 2 0 0]\n",
      " [0 2 0 0]]\n",
      "4 [[1 0 0 0]\n",
      " [2 1 0 0]\n",
      " [3 2 1 0]\n",
      " [4 3 2 1]]\n",
      "[[8 6 4 2]\n",
      " [4 2 0 0]\n",
      " [4 2 0 0]]\n",
      "[[ 0.5         0.33333333  0.          0.        ]\n",
      " [ 0.5         0.33333333  0.          0.        ]] [ 0.1  0.2  0.3  0.4] [ 0.11666667  0.11666667]\n",
      "[ 0.11666667  0.11666667]\n"
     ]
    }
   ],
   "source": [
    "# string_mch = ['hhhh', 'hhhh']\n",
    "# print(calc_mhl(string_mch, 'h'))\n",
    "\n",
    "# string_mch = ['HHHH', 'HHHH']\n",
    "# print(calc_mhl(string_mch, 'h'))\n",
    "\n",
    "# string_mch = ['HHHH', 'hhhh']\n",
    "# print(calc_mhl(string_mch, 'h'))\n",
    "\n",
    "string_mch = ['HHhh', 'HHhh',]\n",
    "print(calc_mhl(string_mch, 'h'))\n",
    "\n"
   ]
  },
  {
   "cell_type": "code",
   "execution_count": 33,
   "metadata": {},
   "outputs": [
    {
     "name": "stdout",
     "output_type": "stream",
     "text": [
      "[[ 0  0  0 16]\n",
      " [12  5  2  1]\n",
      " [12  5  2  1]]\n",
      "4 [[1 0 0 0]\n",
      " [2 1 0 0]\n",
      " [3 2 1 0]\n",
      " [4 3 2 1]]\n",
      "[[64 48 32 16]\n",
      " [32 12  4  1]\n",
      " [32 12  4  1]]\n",
      "[[ 0.5     0.25    0.125   0.0625]\n",
      " [ 0.5     0.25    0.125   0.0625]] [ 0.1  0.2  0.3  0.4] [ 0.1625  0.1625]\n",
      "[ 0.1625  0.1625]\n"
     ]
    }
   ],
   "source": [
    "\n",
    "string_mch = [\n",
    "              'hhhh', \n",
    "              'hhhH', 'hhHh', 'hHhh', 'Hhhh', \n",
    "              'hhHH', 'hHhH', 'HhhH', \n",
    "              'hHHh', 'HhHh', 'HHhh', \n",
    "              'hHHH', 'HhHH', 'HHhH', 'HHHh', \n",
    "              'HHHH', \n",
    "             ]\n",
    "print(calc_mhl(string_mch, 'h'))"
   ]
  },
  {
   "cell_type": "code",
   "execution_count": 32,
   "metadata": {},
   "outputs": [
    {
     "data": {
      "text/plain": [
       "0.11666666666666667"
      ]
     },
     "execution_count": 32,
     "metadata": {},
     "output_type": "execute_result"
    }
   ],
   "source": [
    "(1/10)*(2/4)+(2/10)*(1/3)"
   ]
  },
  {
   "cell_type": "code",
   "execution_count": null,
   "metadata": {},
   "outputs": [],
   "source": []
  }
 ],
 "metadata": {
  "kernelspec": {
   "display_name": "Python 3",
   "language": "python",
   "name": "python3"
  },
  "language_info": {
   "codemirror_mode": {
    "name": "ipython",
    "version": 3
   },
   "file_extension": ".py",
   "mimetype": "text/x-python",
   "name": "python",
   "nbconvert_exporter": "python",
   "pygments_lexer": "ipython3",
   "version": "3.8.1"
  }
 },
 "nbformat": 4,
 "nbformat_minor": 4
}
